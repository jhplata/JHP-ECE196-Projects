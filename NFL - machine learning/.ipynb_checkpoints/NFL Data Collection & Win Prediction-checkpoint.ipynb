{
 "cells": [
  {
   "cell_type": "code",
   "execution_count": 1,
   "metadata": {
    "collapsed": true
   },
   "outputs": [],
   "source": [
    "import seaborn as sns\n",
    "\n",
    "import sportsreference\n",
    "import numpy as np\n",
    "import pandas as pd\n",
    "from pandas import DataFrame\n",
    "from sportsreference.nfl.teams import Teams\n",
    "from sportsreference.nfl.schedule import Schedule\n",
    "from sportsreference.nfl.boxscore import Boxscore\n",
    "\n",
    "from sklearn.model_selection import train_test_split\n",
    "from sklearn.decomposition import PCA\n",
    "from sklearn.neighbors import KNeighborsClassifier\n",
    "from sklearn.linear_model import LogisticRegression\n",
    "from sklearn.svm import SVC\n",
    "from sklearn.svm import LinearSVC\n",
    "\n",
    "from sklearn.metrics import balanced_accuracy_score\n",
    "import matplotlib.pyplot as plt"
   ]
  },
  {
   "cell_type": "code",
   "execution_count": 2,
   "metadata": {},
   "outputs": [
    {
     "data": {
      "text/plain": [
       "80"
      ]
     },
     "execution_count": 2,
     "metadata": {},
     "output_type": "execute_result"
    }
   ],
   "source": [
    "5*16"
   ]
  },
  {
   "cell_type": "code",
   "execution_count": 3,
   "metadata": {},
   "outputs": [
    {
     "data": {
      "text/html": [
       "<div>\n",
       "<style scoped>\n",
       "    .dataframe tbody tr th:only-of-type {\n",
       "        vertical-align: middle;\n",
       "    }\n",
       "\n",
       "    .dataframe tbody tr th {\n",
       "        vertical-align: top;\n",
       "    }\n",
       "\n",
       "    .dataframe thead th {\n",
       "        text-align: right;\n",
       "    }\n",
       "</style>\n",
       "<table border=\"1\" class=\"dataframe\">\n",
       "  <thead>\n",
       "    <tr style=\"text-align: right;\">\n",
       "      <th></th>\n",
       "      <th>DAL Pts Scored</th>\n",
       "      <th>DAL Pts Allowed</th>\n",
       "      <th>DAL Punts</th>\n",
       "      <th>DAL Ints thrown</th>\n",
       "      <th>DAL Pass Comp Rate</th>\n",
       "      <th>DAL Pass Yds</th>\n",
       "      <th>DAL Rush Atts</th>\n",
       "      <th>DAL Rush Yards</th>\n",
       "      <th>DAL Win</th>\n",
       "    </tr>\n",
       "  </thead>\n",
       "  <tbody>\n",
       "    <tr>\n",
       "      <th>0</th>\n",
       "      <td>27.0</td>\n",
       "      <td>26.0</td>\n",
       "      <td>2.0</td>\n",
       "      <td>2.0</td>\n",
       "      <td>80.0</td>\n",
       "      <td>356.0</td>\n",
       "      <td>23.0</td>\n",
       "      <td>80.0</td>\n",
       "      <td>1.0</td>\n",
       "    </tr>\n",
       "    <tr>\n",
       "      <th>1</th>\n",
       "      <td>20.0</td>\n",
       "      <td>10.0</td>\n",
       "      <td>6.0</td>\n",
       "      <td>0.0</td>\n",
       "      <td>73.5</td>\n",
       "      <td>250.0</td>\n",
       "      <td>33.0</td>\n",
       "      <td>109.0</td>\n",
       "      <td>1.0</td>\n",
       "    </tr>\n",
       "    <tr>\n",
       "      <th>2</th>\n",
       "      <td>28.0</td>\n",
       "      <td>39.0</td>\n",
       "      <td>4.0</td>\n",
       "      <td>1.0</td>\n",
       "      <td>84.6</td>\n",
       "      <td>220.0</td>\n",
       "      <td>21.0</td>\n",
       "      <td>127.0</td>\n",
       "      <td>0.0</td>\n",
       "    </tr>\n",
       "    <tr>\n",
       "      <th>3</th>\n",
       "      <td>20.0</td>\n",
       "      <td>26.0</td>\n",
       "      <td>5.0</td>\n",
       "      <td>0.0</td>\n",
       "      <td>61.5</td>\n",
       "      <td>220.0</td>\n",
       "      <td>28.0</td>\n",
       "      <td>115.0</td>\n",
       "      <td>0.0</td>\n",
       "    </tr>\n",
       "    <tr>\n",
       "      <th>4</th>\n",
       "      <td>6.0</td>\n",
       "      <td>30.0</td>\n",
       "      <td>6.0</td>\n",
       "      <td>1.0</td>\n",
       "      <td>66.7</td>\n",
       "      <td>163.0</td>\n",
       "      <td>24.0</td>\n",
       "      <td>102.0</td>\n",
       "      <td>0.0</td>\n",
       "    </tr>\n",
       "    <tr>\n",
       "      <th>...</th>\n",
       "      <td>...</td>\n",
       "      <td>...</td>\n",
       "      <td>...</td>\n",
       "      <td>...</td>\n",
       "      <td>...</td>\n",
       "      <td>...</td>\n",
       "      <td>...</td>\n",
       "      <td>...</td>\n",
       "      <td>...</td>\n",
       "    </tr>\n",
       "    <tr>\n",
       "      <th>75</th>\n",
       "      <td>15.0</td>\n",
       "      <td>26.0</td>\n",
       "      <td>2.0</td>\n",
       "      <td>1.0</td>\n",
       "      <td>65.3</td>\n",
       "      <td>323.0</td>\n",
       "      <td>19.0</td>\n",
       "      <td>103.0</td>\n",
       "      <td>0.0</td>\n",
       "    </tr>\n",
       "    <tr>\n",
       "      <th>76</th>\n",
       "      <td>24.0</td>\n",
       "      <td>31.0</td>\n",
       "      <td>5.0</td>\n",
       "      <td>0.0</td>\n",
       "      <td>55.1</td>\n",
       "      <td>326.0</td>\n",
       "      <td>22.0</td>\n",
       "      <td>82.0</td>\n",
       "      <td>0.0</td>\n",
       "    </tr>\n",
       "    <tr>\n",
       "      <th>77</th>\n",
       "      <td>44.0</td>\n",
       "      <td>21.0</td>\n",
       "      <td>2.0</td>\n",
       "      <td>0.0</td>\n",
       "      <td>65.2</td>\n",
       "      <td>212.0</td>\n",
       "      <td>45.0</td>\n",
       "      <td>263.0</td>\n",
       "      <td>1.0</td>\n",
       "    </tr>\n",
       "    <tr>\n",
       "      <th>78</th>\n",
       "      <td>9.0</td>\n",
       "      <td>17.0</td>\n",
       "      <td>6.0</td>\n",
       "      <td>0.0</td>\n",
       "      <td>56.8</td>\n",
       "      <td>257.0</td>\n",
       "      <td>16.0</td>\n",
       "      <td>54.0</td>\n",
       "      <td>0.0</td>\n",
       "    </tr>\n",
       "    <tr>\n",
       "      <th>79</th>\n",
       "      <td>47.0</td>\n",
       "      <td>16.0</td>\n",
       "      <td>2.0</td>\n",
       "      <td>0.0</td>\n",
       "      <td>69.7</td>\n",
       "      <td>294.0</td>\n",
       "      <td>36.0</td>\n",
       "      <td>223.0</td>\n",
       "      <td>1.0</td>\n",
       "    </tr>\n",
       "  </tbody>\n",
       "</table>\n",
       "<p>80 rows × 9 columns</p>\n",
       "</div>"
      ],
      "text/plain": [
       "    DAL Pts Scored  DAL Pts Allowed  DAL Punts  DAL Ints thrown  \\\n",
       "0             27.0             26.0        2.0              2.0   \n",
       "1             20.0             10.0        6.0              0.0   \n",
       "2             28.0             39.0        4.0              1.0   \n",
       "3             20.0             26.0        5.0              0.0   \n",
       "4              6.0             30.0        6.0              1.0   \n",
       "..             ...              ...        ...              ...   \n",
       "75            15.0             26.0        2.0              1.0   \n",
       "76            24.0             31.0        5.0              0.0   \n",
       "77            44.0             21.0        2.0              0.0   \n",
       "78             9.0             17.0        6.0              0.0   \n",
       "79            47.0             16.0        2.0              0.0   \n",
       "\n",
       "    DAL Pass Comp Rate  DAL Pass Yds  DAL Rush Atts  DAL Rush Yards  DAL Win  \n",
       "0                 80.0         356.0           23.0            80.0      1.0  \n",
       "1                 73.5         250.0           33.0           109.0      1.0  \n",
       "2                 84.6         220.0           21.0           127.0      0.0  \n",
       "3                 61.5         220.0           28.0           115.0      0.0  \n",
       "4                 66.7         163.0           24.0           102.0      0.0  \n",
       "..                 ...           ...            ...             ...      ...  \n",
       "75                65.3         323.0           19.0           103.0      0.0  \n",
       "76                55.1         326.0           22.0            82.0      0.0  \n",
       "77                65.2         212.0           45.0           263.0      1.0  \n",
       "78                56.8         257.0           16.0            54.0      0.0  \n",
       "79                69.7         294.0           36.0           223.0      1.0  \n",
       "\n",
       "[80 rows x 9 columns]"
      ]
     },
     "metadata": {},
     "output_type": "display_data"
    }
   ],
   "source": [
    "# Collect Data from Dallas and Philidelphia\n",
    "\n",
    "stats_dalY = np.zeros((80,2))\n",
    "stats_dalX = np.zeros((80,9))  # (years, games, number of stats)\n",
    "stats_phiY = np.zeros((80,2))\n",
    "stats_phiX = np.zeros((80,6))\n",
    "\n",
    "y = -1\n",
    "g1 = 0\n",
    "g2 = 0\n",
    "year_span = range(2015,2020) #change years here\n",
    "\n",
    "for year in year_span:\n",
    "    y += 1\n",
    "    sched_dal = Schedule('DAL',year)\n",
    "    sched_phi = Schedule('PHI',year)\n",
    "    \n",
    "    for gamed in sched_dal:\n",
    "#         if (gamed.opponent_abbr == 'PHI'):\n",
    "        if (gamed.type == 'Reg'):\n",
    "            stats_dalX[g1,0] = gamed.points_scored\n",
    "            stats_dalX[g1,1] = gamed.points_allowed\n",
    "            stats_dalX[g1,2] = gamed.punts\n",
    "            stats_dalX[g1,3] = gamed.interceptions # thrown\n",
    "            stats_dalX[g1,4] = gamed.pass_completion_rate\n",
    "            stats_dalX[g1,5] = gamed.pass_yards\n",
    "            stats_dalX[g1,6] = gamed.rush_attempts\n",
    "            stats_dalX[g1,7] = gamed.rush_yards\n",
    "            win = 0\n",
    "            if (gamed.result == 'Win'):\n",
    "                win = 1\n",
    "            stats_dalX[g1,8] = win\n",
    "\n",
    "\n",
    "            g1 += 1\n",
    "    for gamep in sched_phi:\n",
    "        if (gamep.type == 'Reg'):\n",
    "    #         if (gamep.opponent_abbr == 'DAL'):\n",
    "            stats_phiY[g2,0] = gamep.points_scored\n",
    "            stats_phiY[g2,1] = gamep.points_allowed\n",
    "\n",
    "            stats_phiX[g2,0] = gamep.punts\n",
    "            stats_phiX[g2,1] = gamep.interceptions\n",
    "            stats_phiX[g2,2] = gamep.pass_completion_rate\n",
    "            stats_phiX[g2,3] = gamep.pass_yards\n",
    "            stats_phiX[g2,4] = gamep.rush_attempts\n",
    "            stats_phiX[g2,5] = gamep.rush_yards\n",
    "            \n",
    "            g2 += 1    \n",
    "\n",
    "            \n",
    "# Make Dataframes            \n",
    "dfdal = DataFrame(stats_dalX[:,:], columns=['DAL Pts Scored', 'DAL Pts Allowed','DAL Punts',\n",
    "                                             'DAL Ints thrown','DAL Pass Comp Rate', 'DAL Pass Yds', \n",
    "                                             'DAL Rush Atts', 'DAL Rush Yards','DAL Win' ]) \n",
    "# dfdalY = DataFrame(stats_dalY[:,:], columns=['DAL Pts Scored', 'DAL Pts Allowed'])\n",
    "\n",
    "# dfphiX = DataFrame(stats_phiX[:,:], columns=[ 'PHI Punts', \n",
    "# 'PHI Ints thrown','PHI Pass Comp', 'PHI Pass Yds', 'PHI Rush Atts', 'PHI Rush Yards' ])\n",
    "# dfphiY = DataFrame(stats_phiY[:,:], columns=['PHI Pts Scored', 'PHI Pts Allowed'])\n",
    "\n",
    "# dfXcombo = pd.concat([dfdalX,dfphiX],axis=1)\n",
    "# dfYcombo = pd.concat([dfdalY,dfphiY],axis=1)\n",
    "\n",
    "\n",
    "display(dfdal)\n",
    "# display(dfYcombo)"
   ]
  },
  {
   "cell_type": "markdown",
   "metadata": {},
   "source": [
    "#### <h1> Machine Learning Breakdown </h1>\n",
    "</br>\n",
    "<p1> Goal: Predict the score of a given game provided data on previous games he two temas played in. </p1>\n",
    "<br><br>\n",
    "<p1> Inputs: Stats that give information about number of posessions. i.e. Punts, Interceptions thrown, Fumbles lost, Interceptions and fumbles recovered. The final score of the games will also be used as a datapoint.</p1>\n",
    "<br><br>\n",
    "<p1> Outputs: The final score of a game. For test data the scores will not be provided and the algorithm wil try to predict the score. </p1>\n"
   ]
  },
  {
   "cell_type": "code",
   "execution_count": 4,
   "metadata": {},
   "outputs": [],
   "source": [
    "X = dfdal.drop('DAL Win', axis=1)\n",
    "Y = dfdal['DAL Win']"
   ]
  },
  {
   "cell_type": "code",
   "execution_count": 5,
   "metadata": {
    "collapsed": true
   },
   "outputs": [],
   "source": [
    "wins = Y[Y==1].index\n",
    "losses = Y[Y==0].index"
   ]
  },
  {
   "cell_type": "code",
   "execution_count": 6,
   "metadata": {},
   "outputs": [
    {
     "data": {
      "image/png": "[encoded data removed]",
      "text/plain": [
       "<Figure size 432x288 with 1 Axes>"
      ]
     },
     "metadata": {},
     "output_type": "display_data"
    }
   ],
   "source": [
    "plt.xlabel(\"PTS scored\") \n",
    "plt.ylabel(\"Count\") \n",
    "\n",
    "X['DAL Pts Scored'][wins].hist()  # blue = wins\n",
    "X['DAL Pts Scored'][losses].hist()  # orange = losses\n",
    "plt.show()"
   ]
  },
  {
   "cell_type": "code",
   "execution_count": 7,
   "metadata": {},
   "outputs": [
    {
     "data": {
      "image/png": "[encoded data removed]",
      "text/plain": [
       "<Figure size 432x288 with 1 Axes>"
      ]
     },
     "metadata": {},
     "output_type": "display_data"
    }
   ],
   "source": [
    "plt.xlabel(\"PTS allowed\")\n",
    "plt.ylabel(\"Count\") \n",
    "\n",
    "X['DAL Pts Allowed'][wins].hist()  # blue histogram will show wins\n",
    "X['DAL Pts Allowed'][losses].hist()  # orange shows losses\n",
    "\n",
    "plt.show()"
   ]
  },
  {
   "cell_type": "code",
   "execution_count": 8,
   "metadata": {},
   "outputs": [
    {
     "data": {
      "image/png": "[encoded data removed]",
      "text/plain": [
       "<Figure size 432x288 with 1 Axes>"
      ]
     },
     "metadata": {},
     "output_type": "display_data"
    }
   ],
   "source": [
    "plt.xlabel(\"Rush Attempts\") \n",
    "plt.ylabel(\"Count\")\n",
    "\n",
    "X['DAL Rush Atts'][wins].hist() \n",
    "X['DAL Rush Atts'][losses].hist() \n",
    "\n",
    "plt.show()"
   ]
  },
  {
   "cell_type": "code",
   "execution_count": 9,
   "metadata": {},
   "outputs": [
    {
     "data": {
      "image/png": "[encoded data removed]",
      "text/plain": [
       "<Figure size 432x288 with 1 Axes>"
      ]
     },
     "metadata": {},
     "output_type": "display_data"
    }
   ],
   "source": [
    "plt.xlabel(\"Pass Completion Rate\") \n",
    "plt.ylabel(\"Count\")\n",
    "\n",
    "X['DAL Pass Comp Rate'][wins].hist() \n",
    "X['DAL Pass Comp Rate'][losses].hist()  \n",
    "\n",
    "plt.show()"
   ]
  },
  {
   "cell_type": "code",
   "execution_count": 10,
   "metadata": {},
   "outputs": [
    {
     "data": {
      "image/png": "[encoded data removed]",
      "text/plain": [
       "<Figure size 432x288 with 1 Axes>"
      ]
     },
     "metadata": {},
     "output_type": "display_data"
    }
   ],
   "source": [
    "plt.xlabel(\"Interceptions thrown\") \n",
    "plt.ylabel(\"Count\")\n",
    "\n",
    "\n",
    "X['DAL Ints thrown'][losses].hist() # losses are blue\n",
    "X['DAL Ints thrown'][wins].hist()   # wins are orange\n",
    "\n",
    "plt.show()"
   ]
  },
  {
   "cell_type": "code",
   "execution_count": 11,
   "metadata": {},
   "outputs": [
    {
     "data": {
      "image/png": "[encoded data removed]",
      "text/plain": [
       "<Figure size 432x288 with 1 Axes>"
      ]
     },
     "metadata": {},
     "output_type": "display_data"
    }
   ],
   "source": [
    "plt.xlabel(\"Interceptions thrown\") \n",
    "plt.ylabel(\"Count\")\n",
    "\n",
    "X['DAL Ints thrown'][wins].hist()  \n",
    "X['DAL Ints thrown'][losses].hist()\n",
    "\n",
    "\n",
    "plt.show()"
   ]
  },
  {
   "cell_type": "code",
   "execution_count": 12,
   "metadata": {},
   "outputs": [
    {
     "data": {
      "text/plain": [
       "Index(['DAL Pts Scored', 'DAL Pts Allowed', 'DAL Punts', 'DAL Ints thrown',\n",
       "       'DAL Pass Comp Rate', 'DAL Pass Yds', 'DAL Rush Atts',\n",
       "       'DAL Rush Yards'],\n",
       "      dtype='object')"
      ]
     },
     "execution_count": 12,
     "metadata": {},
     "output_type": "execute_result"
    }
   ],
   "source": [
    "X.columns"
   ]
  },
  {
   "cell_type": "code",
   "execution_count": null,
   "metadata": {
    "collapsed": true
   },
   "outputs": [],
   "source": []
  },
  {
   "cell_type": "code",
   "execution_count": 27,
   "metadata": {},
   "outputs": [
    {
     "name": "stdout",
     "output_type": "stream",
     "text": [
      "DAL Pts Scored:\n",
      "Total Accuracy: 0.7875\n",
      "\n",
      "DAL Pts Allowed:\n",
      "Total Accuracy: 0.7125\n",
      "\n",
      "DAL Punts:\n",
      "Total Accuracy: 0.6625\n",
      "\n",
      "DAL Ints thrown:\n",
      "Total Accuracy: 0.7625\n",
      "\n",
      "DAL Pass Comp Rate:\n",
      "Total Accuracy: 0.6875\n",
      "\n",
      "DAL Pass Yds:\n",
      "Total Accuracy: 0.65\n",
      "\n",
      "DAL Rush Atts:\n",
      "Total Accuracy: 0.7625\n",
      "\n",
      "DAL Rush Yards:\n",
      "Total Accuracy: 0.7\n",
      "\n"
     ]
    }
   ],
   "source": [
    "model = LogisticRegression()\n",
    "\n",
    "for col in X:\n",
    "    model.fit(X[[col]], Y)  # Fit your newly initiated model to the column at X_feat and y\n",
    "    pred = model.predict(X[[col]])  # Generate predictions based on the column at X_feat\n",
    "    print(\"{}:\".format(col))\n",
    "    print(\"Total Accuracy:\",sum(pred == Y) / len(Y))\n",
    "    print()"
   ]
  },
  {
   "cell_type": "code",
   "execution_count": 28,
   "metadata": {},
   "outputs": [],
   "source": [
    "## Create X_train, X_test, y_train, and y_test with 33% of our total data in our test set\n",
    "X_train, X_test, y_train, y_test = train_test_split(X, Y, test_size=0.2)"
   ]
  },
  {
   "cell_type": "code",
   "execution_count": 31,
   "metadata": {},
   "outputs": [],
   "source": [
    "KNN = KNeighborsClassifier(n_neighbors=8) \n",
    "# cla = KNN(n_neighbor=5) \n",
    "\n",
    "KNN.fit(X_train, y_train) # Fit classifier to your X_train and y_train\n",
    "prediction = KNN.predict(X_test)  # Generate predictions based on X_test"
   ]
  },
  {
   "cell_type": "code",
   "execution_count": 32,
   "metadata": {},
   "outputs": [
    {
     "name": "stdout",
     "output_type": "stream",
     "text": [
      "Accuracy =\n",
      "0.75\n"
     ]
    }
   ],
   "source": [
    "pred_acc = sum(prediction == y_test) / len(prediction)\n",
    "\n",
    "print('Accuracy =') \n",
    "print(pred_acc)"
   ]
  },
  {
   "cell_type": "code",
   "execution_count": 24,
   "metadata": {},
   "outputs": [],
   "source": [
    "SVC = SVC()\n",
    "\n",
    "SVC.fit(X_train, y_train)\n",
    "prediction2 = KNN.predict(X_test)"
   ]
  },
  {
   "cell_type": "code",
   "execution_count": 26,
   "metadata": {},
   "outputs": [
    {
     "name": "stdout",
     "output_type": "stream",
     "text": [
      "Accuracy =\n",
      "0.6875\n"
     ]
    }
   ],
   "source": [
    "pred_acc2 = sum(prediction2 == y_test) / len(prediction2)\n",
    "\n",
    "print('Accuracy =') \n",
    "print(pred_acc2)"
   ]
  },
  {
   "cell_type": "code",
   "execution_count": null,
   "metadata": {
    "collapsed": true
   },
   "outputs": [],
   "source": []
  },
  {
   "cell_type": "code",
   "execution_count": 19,
   "metadata": {},
   "outputs": [
    {
     "name": "stdout",
     "output_type": "stream",
     "text": [
      "X\n"
     ]
    },
    {
     "ename": "NameError",
     "evalue": "name 'dfXcombo' is not defined",
     "output_type": "error",
     "traceback": [
      "\u001b[0;31m---------------------------------------------------------------------------\u001b[0m",
      "\u001b[0;31mNameError\u001b[0m                                 Traceback (most recent call last)",
      "\u001b[0;32m<ipython-input-19-57cdc04e0561>\u001b[0m in \u001b[0;36m<module>\u001b[0;34m()\u001b[0m\n\u001b[1;32m      1\u001b[0m \u001b[0mprint\u001b[0m\u001b[0;34m(\u001b[0m\u001b[0;34m'X'\u001b[0m\u001b[0;34m)\u001b[0m\u001b[0;34m\u001b[0m\u001b[0m\n\u001b[0;32m----> 2\u001b[0;31m \u001b[0mprint\u001b[0m\u001b[0;34m(\u001b[0m\u001b[0mdfXcombo\u001b[0m\u001b[0;34m.\u001b[0m\u001b[0mshape\u001b[0m\u001b[0;34m)\u001b[0m\u001b[0;34m\u001b[0m\u001b[0m\n\u001b[0m\u001b[1;32m      3\u001b[0m \u001b[0mprint\u001b[0m\u001b[0;34m(\u001b[0m\u001b[0;34m)\u001b[0m\u001b[0;34m\u001b[0m\u001b[0m\n\u001b[1;32m      4\u001b[0m \u001b[0mprint\u001b[0m\u001b[0;34m(\u001b[0m\u001b[0;34m'Y'\u001b[0m\u001b[0;34m)\u001b[0m\u001b[0;34m\u001b[0m\u001b[0m\n\u001b[1;32m      5\u001b[0m \u001b[0mprint\u001b[0m\u001b[0;34m(\u001b[0m\u001b[0mdfYcombo\u001b[0m\u001b[0;34m.\u001b[0m\u001b[0mshape\u001b[0m\u001b[0;34m)\u001b[0m\u001b[0;34m\u001b[0m\u001b[0m\n",
      "\u001b[0;31mNameError\u001b[0m: name 'dfXcombo' is not defined"
     ]
    }
   ],
   "source": [
    "print('X')\n",
    "print(dfXcombo.shape)\n",
    "print()\n",
    "print('Y')\n",
    "print(dfYcombo.shape)\n"
   ]
  },
  {
   "cell_type": "code",
   "execution_count": null,
   "metadata": {
    "collapsed": true
   },
   "outputs": [],
   "source": [
    "pca = PCA(n_components=2)  # initialize a PCA class to reduce our data to 2 dimensions, which is n_components"
   ]
  },
  {
   "cell_type": "code",
   "execution_count": null,
   "metadata": {},
   "outputs": [],
   "source": [
    "dalX_pca = pca.fit_transform(stats_dalX)  # we fit PCA to our dataset X and transform X from 4 dimensions to 2"
   ]
  },
  {
   "cell_type": "code",
   "execution_count": null,
   "metadata": {},
   "outputs": [],
   "source": [
    "print('Dal X')\n",
    "print(dalX_pca.shape)\n",
    "print('Dal Y')\n",
    "print(stats_dalY.shape)\n",
    "print()\n",
    "print('Phi X')\n",
    "print(stats_phiX.shape)\n",
    "print('PHI Y')\n",
    "print(stats_phiY.shape)"
   ]
  },
  {
   "cell_type": "code",
   "execution_count": null,
   "metadata": {
    "collapsed": true
   },
   "outputs": [],
   "source": []
  },
  {
   "cell_type": "code",
   "execution_count": null,
   "metadata": {
    "collapsed": true
   },
   "outputs": [],
   "source": []
  }
 ],
 "metadata": {
  "kernelspec": {
   "display_name": "Python 3",
   "language": "python",
   "name": "python3"
  },
  "language_info": {
   "codemirror_mode": {
    "name": "ipython",
    "version": 3
   },
   "file_extension": ".py",
   "mimetype": "text/x-python",
   "name": "python",
   "nbconvert_exporter": "python",
   "pygments_lexer": "ipython3",
   "version": "3.6.2"
  }
 },
 "nbformat": 4,
 "nbformat_minor": 2
}
