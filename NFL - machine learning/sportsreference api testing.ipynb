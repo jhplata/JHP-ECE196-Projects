{
 "cells": [
  {
   "cell_type": "markdown",
   "metadata": {},
   "source": [
    "## Testing sports reference api\n"
   ]
  },
  {
   "cell_type": "code",
   "execution_count": 4,
   "metadata": {
    "collapsed": true
   },
   "outputs": [],
   "source": [
    "import sportsreference\n",
    "import numpy as np\n",
    "import pandas as pd\n",
    "from pandas import DataFrame\n",
    "from sportsreference.nfl.teams import Teams\n",
    "from sportsreference.nfl.schedule import Schedule\n",
    "from sportsreference.nfl.boxscore import Boxscore\n"
   ]
  },
  {
   "cell_type": "code",
   "execution_count": 5,
   "metadata": {
    "collapsed": true
   },
   "outputs": [],
   "source": [
    "#dir(sportsreference.nfl)"
   ]
  },
  {
   "cell_type": "code",
   "execution_count": 7,
   "metadata": {},
   "outputs": [
    {
     "name": "stdout",
     "output_type": "stream",
     "text": [
      "Kansas City Chiefs\n",
      "Tampa Bay Buccaneers\n",
      "Seattle Seahawks\n",
      "Green Bay Packers\n",
      "Pittsburgh Steelers\n",
      "Atlanta Falcons\n",
      "Tennessee Titans\n",
      "San Francisco 49ers\n",
      "Cleveland Browns\n",
      "New Orleans Saints\n",
      "Baltimore Ravens\n",
      "Arizona Cardinals\n",
      "Indianapolis Colts\n",
      "Buffalo Bills\n",
      "Cincinnati Bengals\n",
      "Los Angeles Rams\n",
      "Miami Dolphins\n",
      "Las Vegas Raiders\n",
      "Philadelphia Eagles\n",
      "Dallas Cowboys\n",
      "Minnesota Vikings\n",
      "Los Angeles Chargers\n",
      "Carolina Panthers\n",
      "Detroit Lions\n",
      "Houston Texans\n",
      "Chicago Bears\n",
      "Jacksonville Jaguars\n",
      "Denver Broncos\n",
      "New York Giants\n",
      "New England Patriots\n",
      "Washington Football Team\n",
      "New York Jets\n",
      "32\n"
     ]
    },
    {
     "data": {
      "text/plain": [
       "512"
      ]
     },
     "execution_count": 7,
     "metadata": {},
     "output_type": "execute_result"
    }
   ],
   "source": [
    "box_in = np.empty((32,16))\n",
    "# box_in =[]\n",
    "\n",
    "i = -1\n",
    "\n",
    "for team in Teams():\n",
    "    g = -1\n",
    "    i += 1\n",
    "    print(team.name)\n",
    "    schedule = team.schedule  # Request the current team's schedule\n",
    "    for game in schedule:\n",
    "        g += 1\n",
    "        np.append(box_in,game.boxscore_index)\n",
    "        test = game.dataframe\n",
    "        \n",
    "print(len(box_in))\n",
    "np.size(box_in)"
   ]
  },
  {
   "cell_type": "code",
   "execution_count": null,
   "metadata": {},
   "outputs": [],
   "source": [
    "a = np.zeros((3,2,2))\n",
    "print(a)"
   ]
  },
  {
   "cell_type": "code",
   "execution_count": 8,
   "metadata": {
    "scrolled": true
   },
   "outputs": [
    {
     "ename": "IndexError",
     "evalue": "index 4 is out of bounds for axis 2 with size 4",
     "output_type": "error",
     "traceback": [
      "\u001b[0;31m---------------------------------------------------------------------------\u001b[0m",
      "\u001b[0;31mIndexError\u001b[0m                                Traceback (most recent call last)",
      "\u001b[0;32m<ipython-input-8-3efbe998f0d7>\u001b[0m in \u001b[0;36m<module>\u001b[0;34m()\u001b[0m\n\u001b[1;32m     24\u001b[0m         \u001b[0mstats_phi\u001b[0m\u001b[0;34m[\u001b[0m\u001b[0my\u001b[0m\u001b[0;34m,\u001b[0m\u001b[0mg2\u001b[0m\u001b[0;34m,\u001b[0m\u001b[0;36m2\u001b[0m\u001b[0;34m]\u001b[0m \u001b[0;34m=\u001b[0m \u001b[0mgamep\u001b[0m\u001b[0;34m.\u001b[0m\u001b[0mpoints_allowed\u001b[0m\u001b[0;34m\u001b[0m\u001b[0m\n\u001b[1;32m     25\u001b[0m         \u001b[0mstats_phi\u001b[0m\u001b[0;34m[\u001b[0m\u001b[0my\u001b[0m\u001b[0;34m,\u001b[0m\u001b[0mg2\u001b[0m\u001b[0;34m,\u001b[0m\u001b[0;36m3\u001b[0m\u001b[0;34m]\u001b[0m \u001b[0;34m=\u001b[0m \u001b[0mgamep\u001b[0m\u001b[0;34m.\u001b[0m\u001b[0mpunts\u001b[0m\u001b[0;34m\u001b[0m\u001b[0m\n\u001b[0;32m---> 26\u001b[0;31m         \u001b[0mstats_phi\u001b[0m\u001b[0;34m[\u001b[0m\u001b[0my\u001b[0m\u001b[0;34m,\u001b[0m\u001b[0mg2\u001b[0m\u001b[0;34m,\u001b[0m\u001b[0;36m4\u001b[0m\u001b[0;34m]\u001b[0m \u001b[0;34m=\u001b[0m \u001b[0mgamep\u001b[0m\u001b[0;34m.\u001b[0m\u001b[0minterceptions\u001b[0m\u001b[0;34m\u001b[0m\u001b[0m\n\u001b[0m\u001b[1;32m     27\u001b[0m         \u001b[0mg2\u001b[0m \u001b[0;34m+=\u001b[0m \u001b[0;36m1\u001b[0m\u001b[0;34m\u001b[0m\u001b[0m\n\u001b[1;32m     28\u001b[0m \u001b[0;31m#         if (game.opponent_abbr == 'PHI'):\u001b[0m\u001b[0;34m\u001b[0m\u001b[0;34m\u001b[0m\u001b[0m\n",
      "\u001b[0;31mIndexError\u001b[0m: index 4 is out of bounds for axis 2 with size 4"
     ]
    }
   ],
   "source": [
    "box_index = []\n",
    "\n",
    "points_scored = []\n",
    "points_allow = []\n",
    "# points_against = np.array\n",
    "\n",
    "stats_dal = np.zeros((5,16,4))  # (years, games, number of stats)\n",
    "stats_phi = np.zeros((5,16,4))\n",
    "y = -1\n",
    "for year in range(2015,2020):\n",
    "    sched_dal = Schedule('DAL',year)\n",
    "    sched_phi = Schedule('PHI',year)\n",
    "    y += 1\n",
    "    g1 = 0\n",
    "    g2 = 0\n",
    "    for gamed in sched_dal:\n",
    "        stats_dal[y,g1,1] = gamed.points_scored\n",
    "        stats_dal[y,g1,2] = gamed.points_allowed\n",
    "        stats_dal[y,g1,3] = gamed.punts\n",
    "        stats_dal[y,g1,3] = gamed.interceptions # thrown\n",
    "        g1 += 1\n",
    "    for gamep in sched_phi:\n",
    "        stats_phi[y,g2,1] = gamep.points_scored\n",
    "        stats_phi[y,g2,2] = gamep.points_allowed\n",
    "        stats_phi[y,g2,3] = gamep.punts\n",
    "        stats_phi[y,g2,4] = gamep.interceptions       \n",
    "        g2 += 1        \n",
    "#         if (game.opponent_abbr == 'PHI'):  \n",
    "# #             print(game.date)\n",
    "# #             print(game.result)\n",
    "#             points_scored.append(game.points_scored)\n",
    "#             points_allow.append(game.points_allowed)\n",
    "\n",
    "            \n",
    "# print(points_scored)\n",
    "# print(points_allow)\n",
    "\n",
    "df = DataFrame(points_scored,columns=['Points Scored'])\n",
    "\n",
    "df\n",
    "# print()\n",
    "# points.reshape(10,2)\n",
    "# print(points)\n",
    "\n",
    "            "
   ]
  },
  {
   "cell_type": "code",
   "execution_count": 21,
   "metadata": {},
   "outputs": [
    {
     "ename": "IndexError",
     "evalue": "index 16 is out of bounds for axis 1 with size 16",
     "output_type": "error",
     "traceback": [
      "\u001b[0;31m---------------------------------------------------------------------------\u001b[0m",
      "\u001b[0;31mIndexError\u001b[0m                                Traceback (most recent call last)",
      "\u001b[0;32m<ipython-input-21-b29f009f4877>\u001b[0m in \u001b[0;36m<module>\u001b[0;34m()\u001b[0m\n\u001b[1;32m     21\u001b[0m             \u001b[0;32mbreak\u001b[0m\u001b[0;34m\u001b[0m\u001b[0m\n\u001b[1;32m     22\u001b[0m         \u001b[0;32melse\u001b[0m\u001b[0;34m:\u001b[0m\u001b[0;34m\u001b[0m\u001b[0m\n\u001b[0;32m---> 23\u001b[0;31m             \u001b[0mstats_dal\u001b[0m\u001b[0;34m[\u001b[0m\u001b[0my\u001b[0m\u001b[0;34m,\u001b[0m\u001b[0mg1\u001b[0m\u001b[0;34m,\u001b[0m\u001b[0;36m0\u001b[0m\u001b[0;34m]\u001b[0m \u001b[0;34m=\u001b[0m \u001b[0mgamed\u001b[0m\u001b[0;34m.\u001b[0m\u001b[0mpoints_scored\u001b[0m\u001b[0;34m\u001b[0m\u001b[0m\n\u001b[0m\u001b[1;32m     24\u001b[0m     \u001b[0;31m#         print(gamed.points_scored)\u001b[0m\u001b[0;34m\u001b[0m\u001b[0;34m\u001b[0m\u001b[0m\n\u001b[1;32m     25\u001b[0m             \u001b[0mstats_dal\u001b[0m\u001b[0;34m[\u001b[0m\u001b[0my\u001b[0m\u001b[0;34m,\u001b[0m\u001b[0mg1\u001b[0m\u001b[0;34m,\u001b[0m\u001b[0;36m1\u001b[0m\u001b[0;34m]\u001b[0m \u001b[0;34m=\u001b[0m \u001b[0mgamed\u001b[0m\u001b[0;34m.\u001b[0m\u001b[0mpoints_allowed\u001b[0m\u001b[0;34m\u001b[0m\u001b[0m\n",
      "\u001b[0;31mIndexError\u001b[0m: index 16 is out of bounds for axis 1 with size 16"
     ]
    }
   ],
   "source": [
    "# box_index = []\n",
    "\n",
    "# points_scored = []\n",
    "# points_allow = []\n",
    "# points_against = np.array\n",
    "\n",
    "stats_dal = np.zeros((5,16,4))  # (years, games, number of stats)\n",
    "stats_phi = np.zeros((5,16,4))\n",
    "\n",
    "y = -1\n",
    "for year in range(2015,2020):\n",
    "    y += 1\n",
    "    sched_dal = Schedule('DAL',year)\n",
    "    sched_phi = Schedule('PHI',year)\n",
    "    \n",
    "    g1 = 0\n",
    "    g2 = 0\n",
    "    for gamed in sched_dal:\n",
    "#         if (gamed.opponent_abbr == 'PHI'):\n",
    "        if (gamed.type == 'playoff'):\n",
    "            break\n",
    "        else:\n",
    "            stats_dal[y,g1,0] = gamed.points_scored\n",
    "    #         print(gamed.points_scored)\n",
    "            stats_dal[y,g1,1] = gamed.points_allowed\n",
    "            stats_dal[y,g1,2] = gamed.punts\n",
    "            stats_dal[y,g1,3] = gamed.interceptions # thrown\n",
    "            g1 += 1\n",
    "    for gamep in sched_phi:\n",
    "#         if (gamep.opponent_abbr == 'DAL'):\n",
    "        stats_phi[y,g2,0] = gamep.points_scored\n",
    "#         print(gamep.points_scored)\n",
    "        stats_phi[y,g2,1] = gamep.points_allowed\n",
    "        stats_phi[y,g2,2] = gamep.punts\n",
    "        stats_phi[y,g2,3] = gamep.interceptions       \n",
    "        g2 += 1    \n",
    "\n",
    "dfdal_1 = DataFrame(stats_dal[:,:,:], columns=['DAL Pts 2015', \n",
    "'PHI Pts','Punts Away', 'Ints Thrown'])\n",
    "\n",
    "\n",
    "dfdal_1\n",
    "\n"
   ]
  },
  {
   "cell_type": "code",
   "execution_count": null,
   "metadata": {},
   "outputs": [],
   "source": [
    "box_index = []\n",
    "\n",
    "points_scored = []\n",
    "points_allowed = []\n",
    "dal_punt = []\n",
    "phil_punt = []\n",
    "\n",
    "\n",
    "for year in range(2015,2020):\n",
    "    sched = Schedule('DAL',year)\n",
    "#     print(year) \n",
    "    for game in sched:\n",
    "        if (game.opponent_abbr == 'PHI'):\n",
    "#             print(game.date)\n",
    "#             print(game.result)\n",
    "            points_scored.append(game.points_scored)\n",
    "            points_allowed.append(game.points_allowed)\n",
    "            dal_punt.append(game.punts)\n",
    "\n",
    "\n",
    "for year in range(2015,2020):\n",
    "    sched = Schedule('PHI',year)\n",
    "#     print(year) \n",
    "    for game in sched:\n",
    "        if (game.opponent_abbr == 'DAL'):\n",
    "#             print(game.date)\n",
    "#             print(game.result)\n",
    "              phil_punt.append(game.punts)\n",
    "print(dal_punt)\n",
    "points_s = np.array(points_scored)\n",
    "points_a = np.array(points_allowed)\n",
    "dal_p = np.array(dal_punt)\n",
    "phil_p = np.array(phil_punt)\n",
    "points = np.array([(points_s), (points_a)])\n",
    "passing = np.array([(dal_p), (phil_p)])\n",
    "points_reshape= np.reshape(points, (10,2))\n",
    "passing_reshape = np.reshape(passing, (10,2))\n",
    "df = DataFrame( points_reshape,columns=['Dallas Points', 'Philly Points'])\n",
    "df1 = DataFrame(passing_reshape, columns=['Dallas PYPA', 'Philly PYPA'])"
   ]
  },
  {
   "cell_type": "code",
   "execution_count": null,
   "metadata": {},
   "outputs": [],
   "source": [
    "\n",
    "for index in box_index:\n",
    "    box = Boxscore(index)\n",
    "    pa = box.points_allowed\n",
    "    points_scored = box.points_scored\n",
    "    print(pa)\n",
    "    print(points_scored)\n",
    "    print()\n"
   ]
  },
  {
   "cell_type": "code",
   "execution_count": null,
   "metadata": {
    "collapsed": true
   },
   "outputs": [],
   "source": []
  },
  {
   "cell_type": "code",
   "execution_count": null,
   "metadata": {},
   "outputs": [],
   "source": [
    "print(box_index)"
   ]
  },
  {
   "cell_type": "code",
   "execution_count": null,
   "metadata": {},
   "outputs": [],
   "source": [
    "box = Boxscore('201509200phi')\n",
    "box.dataframe"
   ]
  },
  {
   "cell_type": "code",
   "execution_count": null,
   "metadata": {
    "collapsed": true
   },
   "outputs": [],
   "source": [
    "from sportsreference.nfl.schedule import Schedule\n",
    "\n",
    "houston_schedule = Schedule('HOU')\n",
    "print(houston_schedule.dataframe)"
   ]
  },
  {
   "cell_type": "code",
   "execution_count": null,
   "metadata": {
    "collapsed": true
   },
   "outputs": [],
   "source": [
    "[week] = Boxscores(10,2018,10)\n"
   ]
  },
  {
   "cell_type": "code",
   "execution_count": null,
   "metadata": {
    "collapsed": true
   },
   "outputs": [],
   "source": [
    "range?"
   ]
  },
  {
   "cell_type": "code",
   "execution_count": null,
   "metadata": {
    "collapsed": true
   },
   "outputs": [],
   "source": []
  },
  {
   "cell_type": "code",
   "execution_count": null,
   "metadata": {
    "collapsed": true
   },
   "outputs": [],
   "source": []
  }
 ],
 "metadata": {
  "kernelspec": {
   "display_name": "Python 3",
   "language": "python",
   "name": "python3"
  },
  "language_info": {
   "codemirror_mode": {
    "name": "ipython",
    "version": 3
   },
   "file_extension": ".py",
   "mimetype": "text/x-python",
   "name": "python",
   "nbconvert_exporter": "python",
   "pygments_lexer": "ipython3",
   "version": "3.6.2"
  }
 },
 "nbformat": 4,
 "nbformat_minor": 2
}
