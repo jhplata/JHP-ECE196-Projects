{
 "cells": [
  {
   "cell_type": "markdown",
   "metadata": {},
   "source": [
    "## Testing sports reference api\n"
   ]
  },
  {
   "cell_type": "code",
   "execution_count": 29,
   "metadata": {},
   "outputs": [],
   "source": [
    "import sportsreference\n",
    "import numpy as np\n",
    "import pandas as pd\n",
    "from sportsreference.nfl.teams import Teams\n",
    "from sportsreference.nfl.schedule import Schedule\n",
    "from sportsreference.nfl.boxscore import Boxscores\n"
   ]
  },
  {
   "cell_type": "code",
   "execution_count": 30,
   "metadata": {},
   "outputs": [],
   "source": [
    "#dir(sportsreference.nfl)"
   ]
  },
  {
   "cell_type": "code",
   "execution_count": 48,
   "metadata": {},
   "outputs": [
    {
     "name": "stdout",
     "output_type": "stream",
     "text": [
      "2\n",
      "0.286\n",
      "0.333\n"
     ]
    }
   ],
   "source": [
    "t = Teams()\n",
    "boys = t('DAL')\n",
    "chargers = t(\"SDG\")\n",
    "\n",
    "abrev = boys.abbreviation #team names\n",
    "\n",
    "print(boys.wins)\n",
    "print(boys.win_percentage)\n",
    "print(chargers.win_percentage)\n",
    "\n",
    "\n",
    "    \n",
    "    \n"
   ]
  },
  {
   "cell_type": "code",
   "execution_count": 61,
   "metadata": {},
   "outputs": [
    {
     "name": "stdout",
     "output_type": "stream",
     "text": [
      "4\n",
      "13\n",
      "9\n",
      "10\n",
      "8\n"
     ]
    }
   ],
   "source": [
    "\n",
    "for year in range(2015,2020):\n",
    "    t = Teams(year)\n",
    "    boys = t('DAL')\n",
    "    print(boys.wins)\n"
   ]
  },
  {
   "cell_type": "code",
   "execution_count": 60,
   "metadata": {},
   "outputs": [
    {
     "name": "stdout",
     "output_type": "stream",
     "text": [
      "2015\n",
      "2016\n",
      "2017\n",
      "2018\n",
      "2019\n"
     ]
    }
   ],
   "source": [
    "x = range(2015,2020)\n",
    "for year in x:\n",
    "    \n",
    "    print(year)\n",
    "    \n",
    "    "
   ]
  },
  {
   "cell_type": "code",
   "execution_count": null,
   "metadata": {
    "scrolled": true
   },
   "outputs": [],
   "source": [
    "for team in Teams():\n",
    "    print(team.name)\n",
    "    schedule = team.schedule  # Request the current team's schedule\n",
    "    for game in schedule:\n",
    "        print(game.dataframe)"
   ]
  },
  {
   "cell_type": "code",
   "execution_count": null,
   "metadata": {
    "collapsed": true
   },
   "outputs": [],
   "source": []
  },
  {
   "cell_type": "code",
   "execution_count": null,
   "metadata": {},
   "outputs": [],
   "source": [
    "from sportsreference.nfl.schedule import Schedule\n",
    "\n",
    "houston_schedule = Schedule('HOU')\n",
    "print(houston_schedule.dataframe)"
   ]
  },
  {
   "cell_type": "code",
   "execution_count": null,
   "metadata": {},
   "outputs": [],
   "source": [
    "[week] = Boxscores(10,2018,10)\n"
   ]
  },
  {
   "cell_type": "code",
   "execution_count": 59,
   "metadata": {
    "collapsed": true
   },
   "outputs": [],
   "source": [
    "range?"
   ]
  },
  {
   "cell_type": "code",
   "execution_count": null,
   "metadata": {
    "collapsed": true
   },
   "outputs": [],
   "source": []
  },
  {
   "cell_type": "code",
   "execution_count": null,
   "metadata": {
    "collapsed": true
   },
   "outputs": [],
   "source": []
  }
 ],
 "metadata": {
  "kernelspec": {
   "display_name": "Python 3",
   "language": "python",
   "name": "python3"
  },
  "language_info": {
   "codemirror_mode": {
    "name": "ipython",
    "version": 3
   },
   "file_extension": ".py",
   "mimetype": "text/x-python",
   "name": "python",
   "nbconvert_exporter": "python",
   "pygments_lexer": "ipython3",
   "version": "3.6.2"
  }
 },
 "nbformat": 4,
 "nbformat_minor": 2
}
