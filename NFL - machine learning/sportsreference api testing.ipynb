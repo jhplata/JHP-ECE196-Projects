{
 "cells": [
  {
   "cell_type": "markdown",
   "metadata": {},
   "source": [
    "## Testing sports reference api\n"
   ]
  },
  {
   "cell_type": "code",
   "execution_count": 4,
   "metadata": {
    "collapsed": true
   },
   "outputs": [],
   "source": [
    "import sportsreference\n",
    "import numpy as np\n",
    "import pandas as pd\n",
    "from pandas import DataFrame\n",
    "from sportsreference.nfl.teams import Teams\n",
    "from sportsreference.nfl.schedule import Schedule\n",
    "from sportsreference.nfl.boxscore import Boxscore\n"
   ]
  },
  {
   "cell_type": "code",
   "execution_count": 5,
   "metadata": {
    "collapsed": true
   },
   "outputs": [],
   "source": [
    "#dir(sportsreference.nfl)"
   ]
  },
  {
   "cell_type": "code",
   "execution_count": 7,
   "metadata": {},
   "outputs": [
    {
     "name": "stdout",
     "output_type": "stream",
     "text": [
      "Kansas City Chiefs\n",
      "Tampa Bay Buccaneers\n",
      "Seattle Seahawks\n",
      "Green Bay Packers\n",
      "Pittsburgh Steelers\n",
      "Atlanta Falcons\n",
      "Tennessee Titans\n",
      "San Francisco 49ers\n",
      "Cleveland Browns\n",
      "New Orleans Saints\n",
      "Baltimore Ravens\n",
      "Arizona Cardinals\n",
      "Indianapolis Colts\n",
      "Buffalo Bills\n",
      "Cincinnati Bengals\n",
      "Los Angeles Rams\n",
      "Miami Dolphins\n",
      "Las Vegas Raiders\n",
      "Philadelphia Eagles\n",
      "Dallas Cowboys\n",
      "Minnesota Vikings\n",
      "Los Angeles Chargers\n",
      "Carolina Panthers\n",
      "Detroit Lions\n",
      "Houston Texans\n",
      "Chicago Bears\n",
      "Jacksonville Jaguars\n",
      "Denver Broncos\n",
      "New York Giants\n",
      "New England Patriots\n",
      "Washington Football Team\n",
      "New York Jets\n",
      "32\n"
     ]
    },
    {
     "data": {
      "text/plain": [
       "512"
      ]
     },
     "execution_count": 7,
     "metadata": {},
     "output_type": "execute_result"
    }
   ],
   "source": [
    "box_in = np.empty((32,16))\n",
    "# box_in =[]\n",
    "\n",
    "i = -1\n",
    "\n",
    "for team in Teams():\n",
    "    g = -1\n",
    "    i += 1\n",
    "    print(team.name)\n",
    "    schedule = team.schedule  # Request the current team's schedule\n",
    "    for game in schedule:\n",
    "        g += 1\n",
    "        np.append(box_in,game.boxscore_index)\n",
    "        test = game.dataframe\n",
    "        \n",
    "print(len(box_in))\n",
    "np.size(box_in)"
   ]
  },
  {
   "cell_type": "code",
   "execution_count": null,
   "metadata": {},
   "outputs": [],
   "source": [
    "a = np.zeros((3,2,2))\n",
    "print(a)"
   ]
  },
  {
   "cell_type": "code",
   "execution_count": null,
   "metadata": {
    "collapsed": true
   },
   "outputs": [],
   "source": [
    "box_index = []\n",
    "\n",
    "points_scored = []\n",
    "points_allow = []\n",
    "# points_against = np.array\n",
    "\n",
    "stats_dal = np.zeros((5,16,4))  # (years, games, number of stats)\n",
    "stats_phi = np.zeros((5,16,4))\n",
    "y = -1\n",
    "for year in range(2015,2020):\n",
    "    sched_dal = Schedule('DAL',year)\n",
    "    sched_phi = Schedule('PHI',year)\n",
    "    y += 1\n",
    "    g1 = 0\n",
    "    g2 = 0\n",
    "    for gamed in sched_dal:\n",
    "        stats_dal[y,g1,1] = gamed.points_scored\n",
    "        stats_dal[y,g1,2] = gamed.points_allowed\n",
    "        stats_dal[y,g1,3] = gamed.punts\n",
    "        stats_dal[y,g1,3] = gamed.interceptions # thrown\n",
    "        g1 += 1\n",
    "    for gamep in sched_phi:\n",
    "        stats_phi[y,g2,1] = gamep.points_scored\n",
    "        stats_phi[y,g2,2] = gamep.points_allowed\n",
    "        stats_phi[y,g2,3] = gamep.punts\n",
    "        stats_phi[y,g2,4] = gamep.interceptions       \n",
    "        g2 += 1        \n",
    "#         if (game.opponent_abbr == 'PHI'):  \n",
    "# #             print(game.date)\n",
    "# #             print(game.result)\n",
    "#             points_scored.append(game.points_scored)\n",
    "#             points_allow.append(game.points_allowed)\n",
    "\n",
    "            \n",
    "# print(points_scored)\n",
    "# print(points_allow)\n",
    "\n",
    "df = DataFrame(points_scored,columns=['Points Scored'])\n",
    "\n",
    "df\n",
    "# print()\n",
    "# points.reshape(10,2)\n",
    "# print(points)\n",
    "\n",
    "            "
   ]
  },
  {
   "cell_type": "code",
   "execution_count": 25,
   "metadata": {},
   "outputs": [],
   "source": [
    "# box_index = []\n",
    "\n",
    "# points_scored = []\n",
    "# points_allow = []\n",
    "# points_against = np.array\n",
    "\n",
    "stats_dal = np.zeros((5,16,4))  # (years, games, number of stats)\n",
    "stats_phi = np.zeros((5,16,4))\n",
    "\n",
    "y = -1\n",
    "year_span = range(2015,2020) #change years here\n",
    "\n",
    "for year in year_span:\n",
    "    y += 1\n",
    "    sched_dal = Schedule('DAL',year)\n",
    "    sched_phi = Schedule('PHI',year)\n",
    "    \n",
    "    g1 = 0\n",
    "    g2 = 0\n",
    "    for gamed in sched_dal:\n",
    "#         if (gamed.opponent_abbr == 'PHI'):\n",
    "        if (gamed.type == 'Reg'):\n",
    "            stats_dal[y,g1,0] = gamed.points_scored\n",
    "    #         print(gamed.points_scored)\n",
    "            stats_dal[y,g1,1] = gamed.points_allowed\n",
    "            stats_dal[y,g1,2] = gamed.punts\n",
    "            stats_dal[y,g1,3] = gamed.interceptions # thrown\n",
    "            g1 += 1\n",
    "    for gamep in sched_phi:\n",
    "        if (gamep.type == 'Reg'):\n",
    "    #         if (gamep.opponent_abbr == 'DAL'):\n",
    "            stats_phi[y,g2,0] = gamep.points_scored\n",
    "    #         print(gamep.points_scored)\n",
    "            stats_phi[y,g2,1] = gamep.points_allowed\n",
    "            stats_phi[y,g2,2] = gamep.punts\n",
    "            stats_phi[y,g2,3] = gamep.interceptions       \n",
    "            g2 += 1    \n",
    "i = 0\n",
    "for ii in year_span:\n",
    "    \n",
    "\n",
    "    dfdal = DataFrame(stats_dal[i,:,:], columns=['2015 DAL Pts', \n",
    "    'Opp Pts','Punts Away', 'Ints Thrown'])  # Stats from 2015 (year         index at 0)\n",
    "\n",
    "    dfphi = DataFrame(stats_phi[i,:,:], columns=['2015 Phi Pts', \n",
    "    'Opp Pts','Punts Away', 'Ints Thrown'])\n",
    "    \n",
    "    i += 1\n",
    "\n",
    "# display(dfdal)\n",
    "# display(dfphi)"
   ]
  },
  {
   "cell_type": "markdown",
   "metadata": {},
   "source": [
    "<h1> Machine Learning Breakdown </h1>\n",
    "</br>\n",
    "<p1> Goal: Predict the score of a given game provided data on previous games he two temas played in. </p1>\n",
    "<br><br>\n",
    "<p1> Inputs: Stats that give information about number of posessions. i.e. Punts, Interceptions thrown, Fumbles lost, Interceptions and fumbles recovered. The final score of the games will also be used as a datapoint.</p1>\n",
    "<br><br>\n",
    "<p1> Outputs: The final score of a game. For test data the scores will not be provided and the algorithm wil try to predict the score. </p1>\n"
   ]
  },
  {
   "cell_type": "code",
   "execution_count": null,
   "metadata": {
    "collapsed": true
   },
   "outputs": [],
   "source": []
  },
  {
   "cell_type": "code",
   "execution_count": null,
   "metadata": {},
   "outputs": [],
   "source": [
    "box_index = []\n",
    "\n",
    "points_scored = []\n",
    "points_allowed = []\n",
    "dal_punt = []\n",
    "phil_punt = []\n",
    "\n",
    "\n",
    "for year in range(2015,2020):\n",
    "    sched = Schedule('DAL',year)\n",
    "#     print(year) \n",
    "    for game in sched:\n",
    "        if (game.opponent_abbr == 'PHI'):\n",
    "#             print(game.date)\n",
    "#             print(game.result)\n",
    "            points_scored.append(game.points_scored)\n",
    "            points_allowed.append(game.points_allowed)\n",
    "            dal_punt.append(game.punts)\n",
    "\n",
    "\n",
    "for year in range(2015,2020):\n",
    "    sched = Schedule('PHI',year)\n",
    "#     print(year) \n",
    "    for game in sched:\n",
    "        if (game.opponent_abbr == 'DAL'):\n",
    "#             print(game.date)\n",
    "#             print(game.result)\n",
    "              phil_punt.append(game.punts)\n",
    "print(dal_punt)\n",
    "points_s = np.array(points_scored)\n",
    "points_a = np.array(points_allowed)\n",
    "dal_p = np.array(dal_punt)\n",
    "phil_p = np.array(phil_punt)\n",
    "points = np.array([(points_s), (points_a)])\n",
    "passing = np.array([(dal_p), (phil_p)])\n",
    "points_reshape= np.reshape(points, (10,2))\n",
    "passing_reshape = np.reshape(passing, (10,2))\n",
    "df = DataFrame( points_reshape,columns=['Dallas Points', 'Philly Points'])\n",
    "df1 = DataFrame(passing_reshape, columns=['Dallas PYPA', 'Philly PYPA'])"
   ]
  },
  {
   "cell_type": "code",
   "execution_count": null,
   "metadata": {},
   "outputs": [],
   "source": [
    "\n",
    "for index in box_index:\n",
    "    box = Boxscore(index)\n",
    "    pa = box.points_allowed\n",
    "    points_scored = box.points_scored\n",
    "    print(pa)\n",
    "    print(points_scored)\n",
    "    print()\n"
   ]
  },
  {
   "cell_type": "code",
   "execution_count": null,
   "metadata": {
    "collapsed": true
   },
   "outputs": [],
   "source": []
  },
  {
   "cell_type": "code",
   "execution_count": null,
   "metadata": {
    "collapsed": true
   },
   "outputs": [],
   "source": []
  }
 ],
 "metadata": {
  "kernelspec": {
   "display_name": "Python 3",
   "language": "python",
   "name": "python3"
  },
  "language_info": {
   "codemirror_mode": {
    "name": "ipython",
    "version": 3
   },
   "file_extension": ".py",
   "mimetype": "text/x-python",
   "name": "python",
   "nbconvert_exporter": "python",
   "pygments_lexer": "ipython3",
   "version": "3.6.2"
  }
 },
 "nbformat": 4,
 "nbformat_minor": 2
}
